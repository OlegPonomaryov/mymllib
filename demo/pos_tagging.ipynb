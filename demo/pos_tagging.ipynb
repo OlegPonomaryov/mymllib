{
 "cells": [
  {
   "cell_type": "markdown",
   "metadata": {},
   "source": [
    "# Intro"
   ]
  },
  {
   "cell_type": "markdown",
   "metadata": {},
   "source": [
    "<img width=600 src=\"images/ner.jpg\">\n",
    "<p>This notebook demonstrate part of speech (POS) tagging with the Hidden Markov model. The data was taken from the <a href=\"https://www.kaggle.com/abhinavwalia95/entity-annotated-corpus\">Annotated Corpus for Named Entity Recognition</a></p>"
   ]
  },
  {
   "cell_type": "markdown",
   "metadata": {},
   "source": [
    "# Import dependencies"
   ]
  },
  {
   "cell_type": "code",
   "execution_count": 1,
   "metadata": {},
   "outputs": [],
   "source": [
    "import numpy as np\n",
    "import pandas as pd\n",
    "\n",
    "import sys\n",
    "sys.path.insert(0, \"..\")\n",
    "import mymllib\n",
    "import mymllib.metrics.classification as metrics"
   ]
  },
  {
   "cell_type": "markdown",
   "metadata": {},
   "source": [
    "# Load and preprocess data"
   ]
  },
  {
   "cell_type": "markdown",
   "metadata": {},
   "source": [
    "<p>Before proceeding, please, download the dataset using the link above and extract it to <i>ner_dataset</i> directory like this:</p>\n",
    "<p><i>\n",
    "./ner_dataset/<br/>\n",
    "└── ner_dataset.csv<br/>\n",
    "</i></p>\n"
   ]
  },
  {
   "cell_type": "markdown",
   "metadata": {},
   "source": [
    "Let's load the dataset: "
   ]
  },
  {
   "cell_type": "code",
   "execution_count": 2,
   "metadata": {
    "scrolled": false
   },
   "outputs": [
    {
     "data": {
      "text/html": [
       "<div>\n",
       "<style scoped>\n",
       "    .dataframe tbody tr th:only-of-type {\n",
       "        vertical-align: middle;\n",
       "    }\n",
       "\n",
       "    .dataframe tbody tr th {\n",
       "        vertical-align: top;\n",
       "    }\n",
       "\n",
       "    .dataframe thead th {\n",
       "        text-align: right;\n",
       "    }\n",
       "</style>\n",
       "<table border=\"1\" class=\"dataframe\">\n",
       "  <thead>\n",
       "    <tr style=\"text-align: right;\">\n",
       "      <th></th>\n",
       "      <th>Sentence #</th>\n",
       "      <th>Word</th>\n",
       "      <th>POS</th>\n",
       "      <th>Tag</th>\n",
       "    </tr>\n",
       "  </thead>\n",
       "  <tbody>\n",
       "    <tr>\n",
       "      <th>0</th>\n",
       "      <td>Sentence: 1</td>\n",
       "      <td>Thousands</td>\n",
       "      <td>NNS</td>\n",
       "      <td>O</td>\n",
       "    </tr>\n",
       "    <tr>\n",
       "      <th>1</th>\n",
       "      <td>NaN</td>\n",
       "      <td>of</td>\n",
       "      <td>IN</td>\n",
       "      <td>O</td>\n",
       "    </tr>\n",
       "    <tr>\n",
       "      <th>2</th>\n",
       "      <td>NaN</td>\n",
       "      <td>demonstrators</td>\n",
       "      <td>NNS</td>\n",
       "      <td>O</td>\n",
       "    </tr>\n",
       "    <tr>\n",
       "      <th>3</th>\n",
       "      <td>NaN</td>\n",
       "      <td>have</td>\n",
       "      <td>VBP</td>\n",
       "      <td>O</td>\n",
       "    </tr>\n",
       "    <tr>\n",
       "      <th>4</th>\n",
       "      <td>NaN</td>\n",
       "      <td>marched</td>\n",
       "      <td>VBN</td>\n",
       "      <td>O</td>\n",
       "    </tr>\n",
       "  </tbody>\n",
       "</table>\n",
       "</div>"
      ],
      "text/plain": [
       "    Sentence #           Word  POS Tag\n",
       "0  Sentence: 1      Thousands  NNS   O\n",
       "1          NaN             of   IN   O\n",
       "2          NaN  demonstrators  NNS   O\n",
       "3          NaN           have  VBP   O\n",
       "4          NaN        marched  VBN   O"
      ]
     },
     "execution_count": 2,
     "metadata": {},
     "output_type": "execute_result"
    }
   ],
   "source": [
    "dataset = pd.read_table(\"./ner_dataset/ner_dataset.csv\", sep=\",\")\n",
    "dataset.head()"
   ]
  },
  {
   "cell_type": "markdown",
   "metadata": {},
   "source": [
    "The dataset contains POS and named entity tags, which both can be predicted using the Hidden Markov model, but we'll focus just on the POS in this notebook:"
   ]
  },
  {
   "cell_type": "code",
   "execution_count": 3,
   "metadata": {
    "scrolled": false
   },
   "outputs": [
    {
     "data": {
      "text/html": [
       "<div>\n",
       "<style scoped>\n",
       "    .dataframe tbody tr th:only-of-type {\n",
       "        vertical-align: middle;\n",
       "    }\n",
       "\n",
       "    .dataframe tbody tr th {\n",
       "        vertical-align: top;\n",
       "    }\n",
       "\n",
       "    .dataframe thead th {\n",
       "        text-align: right;\n",
       "    }\n",
       "</style>\n",
       "<table border=\"1\" class=\"dataframe\">\n",
       "  <thead>\n",
       "    <tr style=\"text-align: right;\">\n",
       "      <th></th>\n",
       "      <th>Sentence #</th>\n",
       "      <th>Word</th>\n",
       "      <th>POS</th>\n",
       "    </tr>\n",
       "  </thead>\n",
       "  <tbody>\n",
       "    <tr>\n",
       "      <th>0</th>\n",
       "      <td>Sentence: 1</td>\n",
       "      <td>Thousands</td>\n",
       "      <td>NNS</td>\n",
       "    </tr>\n",
       "    <tr>\n",
       "      <th>1</th>\n",
       "      <td>NaN</td>\n",
       "      <td>of</td>\n",
       "      <td>IN</td>\n",
       "    </tr>\n",
       "    <tr>\n",
       "      <th>2</th>\n",
       "      <td>NaN</td>\n",
       "      <td>demonstrators</td>\n",
       "      <td>NNS</td>\n",
       "    </tr>\n",
       "    <tr>\n",
       "      <th>3</th>\n",
       "      <td>NaN</td>\n",
       "      <td>have</td>\n",
       "      <td>VBP</td>\n",
       "    </tr>\n",
       "    <tr>\n",
       "      <th>4</th>\n",
       "      <td>NaN</td>\n",
       "      <td>marched</td>\n",
       "      <td>VBN</td>\n",
       "    </tr>\n",
       "    <tr>\n",
       "      <th>...</th>\n",
       "      <td>...</td>\n",
       "      <td>...</td>\n",
       "      <td>...</td>\n",
       "    </tr>\n",
       "    <tr>\n",
       "      <th>1048570</th>\n",
       "      <td>NaN</td>\n",
       "      <td>they</td>\n",
       "      <td>PRP</td>\n",
       "    </tr>\n",
       "    <tr>\n",
       "      <th>1048571</th>\n",
       "      <td>NaN</td>\n",
       "      <td>responded</td>\n",
       "      <td>VBD</td>\n",
       "    </tr>\n",
       "    <tr>\n",
       "      <th>1048572</th>\n",
       "      <td>NaN</td>\n",
       "      <td>to</td>\n",
       "      <td>TO</td>\n",
       "    </tr>\n",
       "    <tr>\n",
       "      <th>1048573</th>\n",
       "      <td>NaN</td>\n",
       "      <td>the</td>\n",
       "      <td>DT</td>\n",
       "    </tr>\n",
       "    <tr>\n",
       "      <th>1048574</th>\n",
       "      <td>NaN</td>\n",
       "      <td>attack</td>\n",
       "      <td>NN</td>\n",
       "    </tr>\n",
       "  </tbody>\n",
       "</table>\n",
       "<p>1048575 rows × 3 columns</p>\n",
       "</div>"
      ],
      "text/plain": [
       "          Sentence #           Word  POS\n",
       "0        Sentence: 1      Thousands  NNS\n",
       "1                NaN             of   IN\n",
       "2                NaN  demonstrators  NNS\n",
       "3                NaN           have  VBP\n",
       "4                NaN        marched  VBN\n",
       "...              ...            ...  ...\n",
       "1048570          NaN           they  PRP\n",
       "1048571          NaN      responded  VBD\n",
       "1048572          NaN             to   TO\n",
       "1048573          NaN            the   DT\n",
       "1048574          NaN         attack   NN\n",
       "\n",
       "[1048575 rows x 3 columns]"
      ]
     },
     "execution_count": 3,
     "metadata": {},
     "output_type": "execute_result"
    }
   ],
   "source": [
    "dataset = dataset.drop(columns=\"Tag\")\n",
    "dataset"
   ]
  },
  {
   "cell_type": "markdown",
   "metadata": {},
   "source": [
    "Tags that belong to punctuation are removed, since they neither need a probabilistic model for prediction, nor seem to be very helpful for predicting other tags. All letters are converted to lowercase. No stemming is applied, since it might prevent model from, for instance, distinguishing verbs in different tense."
   ]
  },
  {
   "cell_type": "code",
   "execution_count": 4,
   "metadata": {
    "scrolled": true
   },
   "outputs": [
    {
     "data": {
      "text/html": [
       "<div>\n",
       "<style scoped>\n",
       "    .dataframe tbody tr th:only-of-type {\n",
       "        vertical-align: middle;\n",
       "    }\n",
       "\n",
       "    .dataframe tbody tr th {\n",
       "        vertical-align: top;\n",
       "    }\n",
       "\n",
       "    .dataframe thead th {\n",
       "        text-align: right;\n",
       "    }\n",
       "</style>\n",
       "<table border=\"1\" class=\"dataframe\">\n",
       "  <thead>\n",
       "    <tr style=\"text-align: right;\">\n",
       "      <th></th>\n",
       "      <th>Sentence #</th>\n",
       "      <th>Word</th>\n",
       "      <th>POS</th>\n",
       "    </tr>\n",
       "  </thead>\n",
       "  <tbody>\n",
       "    <tr>\n",
       "      <th>0</th>\n",
       "      <td>Sentence: 1</td>\n",
       "      <td>thousands</td>\n",
       "      <td>NNS</td>\n",
       "    </tr>\n",
       "    <tr>\n",
       "      <th>1</th>\n",
       "      <td>NaN</td>\n",
       "      <td>of</td>\n",
       "      <td>IN</td>\n",
       "    </tr>\n",
       "    <tr>\n",
       "      <th>2</th>\n",
       "      <td>NaN</td>\n",
       "      <td>demonstrators</td>\n",
       "      <td>NNS</td>\n",
       "    </tr>\n",
       "    <tr>\n",
       "      <th>3</th>\n",
       "      <td>NaN</td>\n",
       "      <td>have</td>\n",
       "      <td>VBP</td>\n",
       "    </tr>\n",
       "    <tr>\n",
       "      <th>4</th>\n",
       "      <td>NaN</td>\n",
       "      <td>marched</td>\n",
       "      <td>VBN</td>\n",
       "    </tr>\n",
       "    <tr>\n",
       "      <th>...</th>\n",
       "      <td>...</td>\n",
       "      <td>...</td>\n",
       "      <td>...</td>\n",
       "    </tr>\n",
       "    <tr>\n",
       "      <th>962096</th>\n",
       "      <td>NaN</td>\n",
       "      <td>they</td>\n",
       "      <td>PRP</td>\n",
       "    </tr>\n",
       "    <tr>\n",
       "      <th>962097</th>\n",
       "      <td>NaN</td>\n",
       "      <td>responded</td>\n",
       "      <td>VBD</td>\n",
       "    </tr>\n",
       "    <tr>\n",
       "      <th>962098</th>\n",
       "      <td>NaN</td>\n",
       "      <td>to</td>\n",
       "      <td>TO</td>\n",
       "    </tr>\n",
       "    <tr>\n",
       "      <th>962099</th>\n",
       "      <td>NaN</td>\n",
       "      <td>the</td>\n",
       "      <td>DT</td>\n",
       "    </tr>\n",
       "    <tr>\n",
       "      <th>962100</th>\n",
       "      <td>NaN</td>\n",
       "      <td>attack</td>\n",
       "      <td>NN</td>\n",
       "    </tr>\n",
       "  </tbody>\n",
       "</table>\n",
       "<p>962101 rows × 3 columns</p>\n",
       "</div>"
      ],
      "text/plain": [
       "         Sentence #           Word  POS\n",
       "0       Sentence: 1      thousands  NNS\n",
       "1               NaN             of   IN\n",
       "2               NaN  demonstrators  NNS\n",
       "3               NaN           have  VBP\n",
       "4               NaN        marched  VBN\n",
       "...             ...            ...  ...\n",
       "962096          NaN           they  PRP\n",
       "962097          NaN      responded  VBD\n",
       "962098          NaN             to   TO\n",
       "962099          NaN            the   DT\n",
       "962100          NaN         attack   NN\n",
       "\n",
       "[962101 rows x 3 columns]"
      ]
     },
     "execution_count": 4,
     "metadata": {},
     "output_type": "execute_result"
    }
   ],
   "source": [
    "punctuation = dataset.loc[dataset.POS.isin(['.', ',', '``', ':', '$', ';'])]\n",
    "dataset = dataset.drop(punctuation.index).reset_index(drop=True)\n",
    "dataset.Word = dataset.Word.str.lower()\n",
    "dataset"
   ]
  },
  {
   "cell_type": "markdown",
   "metadata": {},
   "source": [
    "POS tags are encoded with numeric labels:"
   ]
  },
  {
   "cell_type": "code",
   "execution_count": 5,
   "metadata": {},
   "outputs": [
    {
     "data": {
      "text/html": [
       "<div>\n",
       "<style scoped>\n",
       "    .dataframe tbody tr th:only-of-type {\n",
       "        vertical-align: middle;\n",
       "    }\n",
       "\n",
       "    .dataframe tbody tr th {\n",
       "        vertical-align: top;\n",
       "    }\n",
       "\n",
       "    .dataframe thead th {\n",
       "        text-align: right;\n",
       "    }\n",
       "</style>\n",
       "<table border=\"1\" class=\"dataframe\">\n",
       "  <thead>\n",
       "    <tr style=\"text-align: right;\">\n",
       "      <th></th>\n",
       "      <th>Sentence #</th>\n",
       "      <th>Word</th>\n",
       "      <th>POS</th>\n",
       "    </tr>\n",
       "  </thead>\n",
       "  <tbody>\n",
       "    <tr>\n",
       "      <th>0</th>\n",
       "      <td>Sentence: 1</td>\n",
       "      <td>thousands</td>\n",
       "      <td>14</td>\n",
       "    </tr>\n",
       "    <tr>\n",
       "      <th>1</th>\n",
       "      <td>NaN</td>\n",
       "      <td>of</td>\n",
       "      <td>5</td>\n",
       "    </tr>\n",
       "    <tr>\n",
       "      <th>2</th>\n",
       "      <td>NaN</td>\n",
       "      <td>demonstrators</td>\n",
       "      <td>14</td>\n",
       "    </tr>\n",
       "    <tr>\n",
       "      <th>3</th>\n",
       "      <td>NaN</td>\n",
       "      <td>have</td>\n",
       "      <td>30</td>\n",
       "    </tr>\n",
       "    <tr>\n",
       "      <th>4</th>\n",
       "      <td>NaN</td>\n",
       "      <td>marched</td>\n",
       "      <td>29</td>\n",
       "    </tr>\n",
       "  </tbody>\n",
       "</table>\n",
       "</div>"
      ],
      "text/plain": [
       "    Sentence #           Word  POS\n",
       "0  Sentence: 1      thousands   14\n",
       "1          NaN             of    5\n",
       "2          NaN  demonstrators   14\n",
       "3          NaN           have   30\n",
       "4          NaN        marched   29"
      ]
     },
     "execution_count": 5,
     "metadata": {},
     "output_type": "execute_result"
    }
   ],
   "source": [
    "idx_to_pos = dataset.POS.astype(\"category\").cat.categories.tolist()\n",
    "pos_to_idx = {idx_to_pos[i]: i for i in range(len(idx_to_pos))}\n",
    "dataset.POS = dataset.POS.map(pos_to_idx)\n",
    "dataset.head()"
   ]
  },
  {
   "cell_type": "markdown",
   "metadata": {},
   "source": [
    "Strings and NaNs are replaced with numeric sentence indices:"
   ]
  },
  {
   "cell_type": "code",
   "execution_count": 6,
   "metadata": {},
   "outputs": [
    {
     "data": {
      "text/html": [
       "<div>\n",
       "<style scoped>\n",
       "    .dataframe tbody tr th:only-of-type {\n",
       "        vertical-align: middle;\n",
       "    }\n",
       "\n",
       "    .dataframe tbody tr th {\n",
       "        vertical-align: top;\n",
       "    }\n",
       "\n",
       "    .dataframe thead th {\n",
       "        text-align: right;\n",
       "    }\n",
       "</style>\n",
       "<table border=\"1\" class=\"dataframe\">\n",
       "  <thead>\n",
       "    <tr style=\"text-align: right;\">\n",
       "      <th></th>\n",
       "      <th>Sentence #</th>\n",
       "      <th>Word</th>\n",
       "      <th>POS</th>\n",
       "    </tr>\n",
       "  </thead>\n",
       "  <tbody>\n",
       "    <tr>\n",
       "      <th>0</th>\n",
       "      <td>0</td>\n",
       "      <td>thousands</td>\n",
       "      <td>14</td>\n",
       "    </tr>\n",
       "    <tr>\n",
       "      <th>1</th>\n",
       "      <td>0</td>\n",
       "      <td>of</td>\n",
       "      <td>5</td>\n",
       "    </tr>\n",
       "    <tr>\n",
       "      <th>2</th>\n",
       "      <td>0</td>\n",
       "      <td>demonstrators</td>\n",
       "      <td>14</td>\n",
       "    </tr>\n",
       "    <tr>\n",
       "      <th>3</th>\n",
       "      <td>0</td>\n",
       "      <td>have</td>\n",
       "      <td>30</td>\n",
       "    </tr>\n",
       "    <tr>\n",
       "      <th>4</th>\n",
       "      <td>0</td>\n",
       "      <td>marched</td>\n",
       "      <td>29</td>\n",
       "    </tr>\n",
       "    <tr>\n",
       "      <th>...</th>\n",
       "      <td>...</td>\n",
       "      <td>...</td>\n",
       "      <td>...</td>\n",
       "    </tr>\n",
       "    <tr>\n",
       "      <th>962096</th>\n",
       "      <td>47841</td>\n",
       "      <td>they</td>\n",
       "      <td>17</td>\n",
       "    </tr>\n",
       "    <tr>\n",
       "      <th>962097</th>\n",
       "      <td>47841</td>\n",
       "      <td>responded</td>\n",
       "      <td>27</td>\n",
       "    </tr>\n",
       "    <tr>\n",
       "      <th>962098</th>\n",
       "      <td>47841</td>\n",
       "      <td>to</td>\n",
       "      <td>24</td>\n",
       "    </tr>\n",
       "    <tr>\n",
       "      <th>962099</th>\n",
       "      <td>47841</td>\n",
       "      <td>the</td>\n",
       "      <td>2</td>\n",
       "    </tr>\n",
       "    <tr>\n",
       "      <th>962100</th>\n",
       "      <td>47841</td>\n",
       "      <td>attack</td>\n",
       "      <td>11</td>\n",
       "    </tr>\n",
       "  </tbody>\n",
       "</table>\n",
       "<p>962101 rows × 3 columns</p>\n",
       "</div>"
      ],
      "text/plain": [
       "        Sentence #           Word  POS\n",
       "0                0      thousands   14\n",
       "1                0             of    5\n",
       "2                0  demonstrators   14\n",
       "3                0           have   30\n",
       "4                0        marched   29\n",
       "...            ...            ...  ...\n",
       "962096       47841           they   17\n",
       "962097       47841      responded   27\n",
       "962098       47841             to   24\n",
       "962099       47841            the    2\n",
       "962100       47841         attack   11\n",
       "\n",
       "[962101 rows x 3 columns]"
      ]
     },
     "execution_count": 6,
     "metadata": {},
     "output_type": "execute_result"
    }
   ],
   "source": [
    "# Start-Of-Sentence indices\n",
    "sos_idx = dataset.loc[~dataset[\"Sentence #\"].isnull()].index\n",
    "sentence_idx = np.empty(dataset.shape[0], np.uint)\n",
    "for i in range(1, len(sos_idx)):\n",
    "    sentence_idx[sos_idx[i - 1]:sos_idx[i]] = i - 1\n",
    "sentence_idx[sos_idx[i]:] = i\n",
    "dataset[\"Sentence #\"] = sentence_idx\n",
    "dataset"
   ]
  },
  {
   "cell_type": "markdown",
   "metadata": {},
   "source": [
    "Train/test split is performed by randomly selecting 80% of sentences that will be used for training and leaving other sentences for testing:"
   ]
  },
  {
   "cell_type": "code",
   "execution_count": 7,
   "metadata": {},
   "outputs": [
    {
     "name": "stdout",
     "output_type": "stream",
     "text": [
      "Train dataset size: 769379\n",
      "Test dataset size: 192722\n"
     ]
    }
   ],
   "source": [
    "num_sentences = int(sentence_idx[-1] + 1)\n",
    "rng = np.random.default_rng(seed=42)\n",
    "train_sentences = rng.choice(num_sentences, size=round(num_sentences * 0.8), replace=False)\n",
    "\n",
    "train_mask = dataset[\"Sentence #\"].isin(train_sentences)\n",
    "train_dataset = dataset.loc[train_mask]\n",
    "test_dataset = dataset.loc[~train_mask]\n",
    "\n",
    "print(\"Train dataset size:\", train_dataset.shape[0])\n",
    "print(\"Test dataset size:\", test_dataset.shape[0])"
   ]
  },
  {
   "cell_type": "markdown",
   "metadata": {},
   "source": [
    "A vocabulary is required to replace words with numeric tokens. It is built using only the train subset and contain only those words that have occured more than once. Other words will be replaced with an \\<UNK\\> token to teach the model how to handle out of vocabulary words.\n",
    "\n",
    "As one can see from the non-random sample of the vocabulary, it contains certain \"words\" that could be better handled by using some rule-based approach instead of a probabilistic model (like numbers, dates or punctuation characters with non-punctuation tags). However we will handle them like ordinary words anyway for the sake of simplicity."
   ]
  },
  {
   "cell_type": "code",
   "execution_count": 8,
   "metadata": {},
   "outputs": [
    {
     "name": "stdout",
     "output_type": "stream",
     "text": [
      "Vocabulary size: 16920\n",
      "\n",
      "Vocabulary sample:\n",
      "['<UNK>', '%', '&', \"'\", \"'d\", \"'ll\", \"'m\", \"'re\", \"'s\", \"'ve\", '(', ')', '-', '--', '/', '0.08', '0.1', '0.2', '0.3', '0.4', '0.5', '0.7', '0.8', '0.9', '01-jan', '02-feb', '02-jan', '02-jun', '03-apr', '03-feb']\n",
      "\n",
      "Random vocabulary sample:\n",
      "['powers', 'warren', 'finally', 'undersea', 'dc', 'ruiz', 'haram', 'activities', 'crown', 'federline', 'kerik', 'beheaded', 'compatriot', 'shifted', 'pressures', 'onboard', 'skepticism', 'speculate', 'pohamba', 'doubt', 'without', 'readiness', 'monitor', 'farouk', 'anti-war', 'bombay', 'sukhumi', 'seventh', 'abrupt', 'portable']\n"
     ]
    }
   ],
   "source": [
    "unique_words = train_dataset.Word.value_counts()\n",
    "idx_to_word = sorted(unique_words.loc[unique_words > 1].index)\n",
    "idx_to_word.insert(0, \"<UNK>\")\n",
    "word_to_idx = {word: idx for idx, word in enumerate(idx_to_word)}\n",
    "\n",
    "print(\"Vocabulary size:\", len(idx_to_word), end=\"\\n\\n\")\n",
    "print(\"Vocabulary sample:\", idx_to_word[:30], sep=\"\\n\", end=\"\\n\\n\")\n",
    "print(\"Random vocabulary sample:\", rng.choice(idx_to_word, size=30, replace=False).tolist(),\n",
    "      sep=\"\\n\")"
   ]
  },
  {
   "cell_type": "markdown",
   "metadata": {},
   "source": [
    "Extract observable states (words) and hidden states (parts of speech) from train and test datasets while replacing words with corresponding numeric labels:"
   ]
  },
  {
   "cell_type": "code",
   "execution_count": 9,
   "metadata": {},
   "outputs": [],
   "source": [
    "def extract_states(dataset):\n",
    "    words = []\n",
    "    pos = []\n",
    "    sentence_nums = dataset[\"Sentence #\"].unique().tolist()\n",
    "    for sentence_num in sentence_nums:\n",
    "        idx = dataset[\"Sentence #\"] == sentence_num\n",
    "        words.append([word_to_idx[word] if word in word_to_idx else word_to_idx[\"<UNK>\"]\n",
    "                      for word in dataset[\"Word\"][idx].tolist()])\n",
    "        pos.append(dataset[\"POS\"][idx].tolist())\n",
    "    return words, pos\n",
    "\n",
    "X_train, Y_train = extract_states(train_dataset)\n",
    "X_test, Y_test = extract_states(test_dataset)"
   ]
  },
  {
   "cell_type": "markdown",
   "metadata": {},
   "source": [
    "# Train and test the model"
   ]
  },
  {
   "cell_type": "markdown",
   "metadata": {},
   "source": [
    "Finally we can train the Hidden Markov model:"
   ]
  },
  {
   "cell_type": "code",
   "execution_count": 10,
   "metadata": {},
   "outputs": [],
   "source": [
    "hidden_markov = mymllib.nlp.HiddenMarkov()\n",
    "hidden_markov.fit(X_train, Y_train)"
   ]
  },
  {
   "cell_type": "markdown",
   "metadata": {},
   "source": [
    "Let's test model's accuracy (predictions are flattened to be compatible with generic metrics):"
   ]
  },
  {
   "cell_type": "code",
   "execution_count": 11,
   "metadata": {},
   "outputs": [
    {
     "name": "stdout",
     "output_type": "stream",
     "text": [
      "Train accuracy: 0.9542553150007993\n",
      "Train balanced accuracy: 0.9520806530840403\n",
      "\n",
      "Test accuracy: 0.9470740237232905\n",
      "Test balanced accuracy 0.9110006713841714\n"
     ]
    }
   ],
   "source": [
    "Y_train_pred = hidden_markov.predict(X_train)\n",
    "Y_test_pred = hidden_markov.predict(X_test)\n",
    "\n",
    "y_train = [val for y in Y_train for val in y]\n",
    "y_train_pred = [val for y in Y_train_pred for val in y]\n",
    "print(\"Train accuracy:\", metrics.accuracy(y_train, y_train_pred))\n",
    "print(\"Train balanced accuracy:\", metrics.balanced_accuracy(y_train, y_train_pred))\n",
    "\n",
    "print()\n",
    "\n",
    "y_test = [val for y in Y_test for val in y]\n",
    "y_test_pred = [val for y in Y_test_pred for val in y]\n",
    "print(\"Test accuracy:\", metrics.accuracy(y_test, y_test_pred))\n",
    "print(\"Test balanced accuracy\", metrics.balanced_accuracy(y_test, y_test_pred))"
   ]
  },
  {
   "cell_type": "markdown",
   "metadata": {},
   "source": [
    "# Conclusion"
   ]
  },
  {
   "cell_type": "markdown",
   "metadata": {},
   "source": [
    "It is a pleasant surprise that even a basic approach with the Hidden Markov model achieves 94.7% unbalanced and 91.1% balanced accuracy when prediction POS tags on a test dataset. Handling some parts of speech like dates in a specific way or using a more sophisticated model could lead to even better results, but what we achieved in this notebook is still a great baseline for further improvements."
   ]
  }
 ],
 "metadata": {
  "kernelspec": {
   "display_name": "Python 3",
   "language": "python",
   "name": "python3"
  },
  "language_info": {
   "codemirror_mode": {
    "name": "ipython",
    "version": 3
   },
   "file_extension": ".py",
   "mimetype": "text/x-python",
   "name": "python",
   "nbconvert_exporter": "python",
   "pygments_lexer": "ipython3",
   "version": "3.7.10"
  }
 },
 "nbformat": 4,
 "nbformat_minor": 4
}
